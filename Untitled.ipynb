{
 "cells": [
  {
   "cell_type": "code",
   "execution_count": 2,
   "metadata": {},
   "outputs": [],
   "source": [
    "import pandas as pd"
   ]
  },
  {
   "cell_type": "code",
   "execution_count": 3,
   "metadata": {},
   "outputs": [],
   "source": [
    "import numpy as np"
   ]
  },
  {
   "cell_type": "code",
   "execution_count": 9,
   "metadata": {},
   "outputs": [],
   "source": [
    "df = pd.read_csv('keyskills.txt', sep='\\n', header=None)"
   ]
  },
  {
   "cell_type": "code",
   "execution_count": 10,
   "metadata": {},
   "outputs": [
    {
     "data": {
      "text/html": [
       "<div>\n",
       "<style scoped>\n",
       "    .dataframe tbody tr th:only-of-type {\n",
       "        vertical-align: middle;\n",
       "    }\n",
       "\n",
       "    .dataframe tbody tr th {\n",
       "        vertical-align: top;\n",
       "    }\n",
       "\n",
       "    .dataframe thead th {\n",
       "        text-align: right;\n",
       "    }\n",
       "</style>\n",
       "<table border=\"1\" class=\"dataframe\">\n",
       "  <thead>\n",
       "    <tr style=\"text-align: right;\">\n",
       "      <th></th>\n",
       "      <th>0</th>\n",
       "    </tr>\n",
       "  </thead>\n",
       "  <tbody>\n",
       "    <tr>\n",
       "      <th>0</th>\n",
       "      <td>Python</td>\n",
       "    </tr>\n",
       "    <tr>\n",
       "      <th>1</th>\n",
       "      <td>Django Framework</td>\n",
       "    </tr>\n",
       "    <tr>\n",
       "      <th>2</th>\n",
       "      <td>AngularJS</td>\n",
       "    </tr>\n",
       "    <tr>\n",
       "      <th>3</th>\n",
       "      <td>Celery</td>\n",
       "    </tr>\n",
       "    <tr>\n",
       "      <th>4</th>\n",
       "      <td>PostgreSQL</td>\n",
       "    </tr>\n",
       "  </tbody>\n",
       "</table>\n",
       "</div>"
      ],
      "text/plain": [
       "                  0\n",
       "0            Python\n",
       "1  Django Framework\n",
       "2         AngularJS\n",
       "3            Celery\n",
       "4        PostgreSQL"
      ]
     },
     "execution_count": 10,
     "metadata": {},
     "output_type": "execute_result"
    }
   ],
   "source": [
    "df.head()"
   ]
  },
  {
   "cell_type": "code",
   "execution_count": 11,
   "metadata": {},
   "outputs": [
    {
     "name": "stdout",
     "output_type": "stream",
     "text": [
      "<class 'pandas.core.frame.DataFrame'>\n",
      "RangeIndex: 1411 entries, 0 to 1410\n",
      "Data columns (total 1 columns):\n",
      " #   Column  Non-Null Count  Dtype \n",
      "---  ------  --------------  ----- \n",
      " 0   0       1411 non-null   object\n",
      "dtypes: object(1)\n",
      "memory usage: 11.1+ KB\n"
     ]
    }
   ],
   "source": [
    "df.info()"
   ]
  },
  {
   "cell_type": "code",
   "execution_count": 12,
   "metadata": {},
   "outputs": [
    {
     "data": {
      "text/plain": [
       "0    1411\n",
       "dtype: int64"
      ]
     },
     "execution_count": 12,
     "metadata": {},
     "output_type": "execute_result"
    }
   ],
   "source": [
    "df.count()"
   ]
  },
  {
   "cell_type": "code",
   "execution_count": 14,
   "metadata": {},
   "outputs": [
    {
     "data": {
      "text/plain": [
       "1411"
      ]
     },
     "execution_count": 14,
     "metadata": {},
     "output_type": "execute_result"
    }
   ],
   "source": [
    "df[0].count()"
   ]
  },
  {
   "cell_type": "code",
   "execution_count": null,
   "metadata": {},
   "outputs": [],
   "source": []
  },
  {
   "cell_type": "code",
   "execution_count": 25,
   "metadata": {},
   "outputs": [],
   "source": [
    "top_skills = df.value_counts().head(20).to_frame()"
   ]
  },
  {
   "cell_type": "code",
   "execution_count": 26,
   "metadata": {},
   "outputs": [
    {
     "name": "stdout",
     "output_type": "stream",
     "text": [
      "                             0\n",
      "0                             \n",
      "Python                     212\n",
      "Django Framework           180\n",
      "PostgreSQL                 114\n",
      "Git                        113\n",
      "SQL                         69\n",
      "Linux                       65\n",
      "MySQL                       33\n",
      "JavaScript                  33\n",
      "Redis                       30\n",
      "ООП                         19\n",
      "CSS                         19\n",
      "Docker                      19\n",
      "Английский — B1 — Средний   19\n",
      "Nginx                       19\n",
      "RabbitMQ                    16\n",
      "MongoDB                     16\n",
      "Flask                       16\n",
      "REST                        14\n",
      "Unit Testing                14\n",
      "Английский язык             14\n"
     ]
    }
   ],
   "source": [
    "print(top_skills)"
   ]
  },
  {
   "cell_type": "code",
   "execution_count": 31,
   "metadata": {},
   "outputs": [],
   "source": [
    "top_skills.columns = ['Число повторений']"
   ]
  },
  {
   "cell_type": "code",
   "execution_count": 32,
   "metadata": {},
   "outputs": [
    {
     "name": "stdout",
     "output_type": "stream",
     "text": [
      "                           Число повторений\n",
      "0                                          \n",
      "Python                                  212\n",
      "Django Framework                        180\n",
      "PostgreSQL                              114\n",
      "Git                                     113\n",
      "SQL                                      69\n",
      "Linux                                    65\n",
      "MySQL                                    33\n",
      "JavaScript                               33\n",
      "Redis                                    30\n",
      "ООП                                      19\n",
      "CSS                                      19\n",
      "Docker                                   19\n",
      "Английский — B1 — Средний                19\n",
      "Nginx                                    19\n",
      "RabbitMQ                                 16\n",
      "MongoDB                                  16\n",
      "Flask                                    16\n",
      "REST                                     14\n",
      "Unit Testing                             14\n",
      "Английский язык                          14\n"
     ]
    }
   ],
   "source": [
    "print(top_skills)"
   ]
  },
  {
   "cell_type": "code",
   "execution_count": 46,
   "metadata": {},
   "outputs": [],
   "source": [
    "top_skills.index.names = ['Ключевой навык']"
   ]
  },
  {
   "cell_type": "code",
   "execution_count": 47,
   "metadata": {},
   "outputs": [],
   "source": [
    "names = list(filter(None, top_skills.index.names + top_skills.columns.values.tolist()))"
   ]
  },
  {
   "cell_type": "code",
   "execution_count": 48,
   "metadata": {},
   "outputs": [
    {
     "name": "stdout",
     "output_type": "stream",
     "text": [
      "['Ключевой навык', 'Число повторений']\n"
     ]
    }
   ],
   "source": [
    "print(names)"
   ]
  },
  {
   "cell_type": "code",
   "execution_count": 49,
   "metadata": {},
   "outputs": [
    {
     "name": "stdout",
     "output_type": "stream",
     "text": [
      "                           Число повторений\n",
      "Ключевой навык                             \n",
      "Python                                  212\n",
      "Django Framework                        180\n",
      "PostgreSQL                              114\n",
      "Git                                     113\n",
      "SQL                                      69\n",
      "Linux                                    65\n",
      "MySQL                                    33\n",
      "JavaScript                               33\n",
      "Redis                                    30\n",
      "ООП                                      19\n",
      "CSS                                      19\n",
      "Docker                                   19\n",
      "Английский — B1 — Средний                19\n",
      "Nginx                                    19\n",
      "RabbitMQ                                 16\n",
      "MongoDB                                  16\n",
      "Flask                                    16\n",
      "REST                                     14\n",
      "Unit Testing                             14\n",
      "Английский язык                          14\n"
     ]
    }
   ],
   "source": [
    "print(top_skills)"
   ]
  },
  {
   "cell_type": "code",
   "execution_count": null,
   "metadata": {},
   "outputs": [],
   "source": []
  }
 ],
 "metadata": {
  "kernelspec": {
   "display_name": "Python 3",
   "language": "python",
   "name": "python3"
  },
  "language_info": {
   "codemirror_mode": {
    "name": "ipython",
    "version": 3
   },
   "file_extension": ".py",
   "mimetype": "text/x-python",
   "name": "python",
   "nbconvert_exporter": "python",
   "pygments_lexer": "ipython3",
   "version": "3.8.5"
  }
 },
 "nbformat": 4,
 "nbformat_minor": 4
}
